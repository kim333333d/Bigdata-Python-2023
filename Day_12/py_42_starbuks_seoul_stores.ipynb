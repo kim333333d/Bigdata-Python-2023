{
 "cells": [
  {
   "attachments": {},
   "cell_type": "markdown",
   "metadata": {},
   "source": [
    "#### 스타벅스 서울시 매장위치 크롤링\n",
    "\n",
    "##### 스타벅스 웹사이트\n",
    "- https://www.starbucks.co.kr/index.do\n",
    "\n",
    "##### 셀레니움 등 라이브러리 임포트"
   ]
  },
  {
   "cell_type": "code",
   "execution_count": 49,
   "metadata": {},
   "outputs": [
    {
     "name": "stdout",
     "output_type": "stream",
     "text": [
      "Requirement already satisfied: tqdm in c:\\program files\\python311\\lib\\site-packages (4.65.0)\n",
      "Requirement already satisfied: colorama in c:\\users\\administrator\\appdata\\roaming\\python\\python311\\site-packages (from tqdm) (0.4.6)\n"
     ]
    }
   ],
   "source": [
    "!pip install tqdm"
   ]
  },
  {
   "cell_type": "code",
   "execution_count": 71,
   "metadata": {},
   "outputs": [],
   "source": [
    "from selenium import webdriver\n",
    "from selenium.webdriver.common.by import By\n",
    "from bs4 import BeautifulSoup\n",
    "import pandas as pd\n",
    "from tqdm.autonotebook import tqdm"
   ]
  },
  {
   "cell_type": "code",
   "execution_count": 69,
   "metadata": {},
   "outputs": [],
   "source": [
    "# 크롬 웹드라이버 실행\n",
    "\n",
    "driver = webdriver.Chrome()\n",
    "url = 'https://www.starbucks.co.kr/store/store_map.do?disp=locale'\n",
    "driver.get(url)"
   ]
  },
  {
   "cell_type": "code",
   "execution_count": 72,
   "metadata": {},
   "outputs": [],
   "source": [
    "# 웹드라이버 선택할 위치값 작성(20년 8월과 동일)\n",
    "btn_seoul = '#container > div > form > fieldset > div > section > article.find_store_cont > ' +\\\n",
    "            'article > article:nth-child(4) > div.loca_step1 > div.loca_step1_cont > ul > ' +\\\n",
    "            'li:nth-child(1) > a'\n",
    "driver.find_element(By.CSS_SELECTOR, btn_seoul).click()"
   ]
  },
  {
   "cell_type": "code",
   "execution_count": 74,
   "metadata": {},
   "outputs": [],
   "source": [
    "# 서울 전체클릭\n",
    "btn_all = '#mCSB_2_container > ul > li > a'\n",
    "driver.find_element(By.CSS_SELECTOR, btn_all).click()"
   ]
  },
  {
   "cell_type": "code",
   "execution_count": 75,
   "metadata": {},
   "outputs": [],
   "source": [
    "# 스타벅스는 한화면에 전부 리스트업되기 때문에 함수를 만들필요도 없음\n",
    "html = driver.page_source\n",
    "soup = BeautifulSoup(html,'html.parser')"
   ]
  },
  {
   "cell_type": "code",
   "execution_count": null,
   "metadata": {},
   "outputs": [],
   "source": [
    "soup"
   ]
  },
  {
   "cell_type": "code",
   "execution_count": 102,
   "metadata": {},
   "outputs": [
    {
     "data": {
      "text/plain": [
       "0"
      ]
     },
     "execution_count": 102,
     "metadata": {},
     "output_type": "execute_result"
    }
   ],
   "source": [
    "# 검색결과 위치\n",
    "starbuks_soup_list = soup.select('quickResultLstCon')\n",
    "len(starbuks_soup_list)"
   ]
  },
  {
   "cell_type": "code",
   "execution_count": null,
   "metadata": {},
   "outputs": [],
   "source": [
    "starbuks_soup_list[0]"
   ]
  },
  {
   "cell_type": "code",
   "execution_count": 92,
   "metadata": {},
   "outputs": [
    {
     "name": "stdout",
     "output_type": "stream",
     "text": [
      "역삼아레나빌딩\n",
      "37.501087 / 127.043069\n",
      "general\n",
      "서울특별시 강남구 언주로 425 (역삼동)\n"
     ]
    }
   ],
   "source": [
    "#  매장정보 확인\n",
    "starbuks_store = starbuks_soup_list[0]\n",
    "name = starbuks_store.select('strong')[0].text.strip()\n",
    "lat  = starbuks_store['data-lat'].strip()\n",
    "long = starbuks_store['data-long'].strip()\n",
    "store_type = starbuks_store.select('i')[0]['class'][0].split('_')[1] #_로 자르면 두번째 값이 general/reserve\n",
    "address = starbuks_store.select('p')[0].get_text(separator='|').split('|')[0]\n",
    "\n",
    "print(name) # 매장명\n",
    "print(lat, long, sep=' / ') # 매장 지도 위치\n",
    "print(store_type)\n",
    "print(address)\n"
   ]
  },
  {
   "cell_type": "code",
   "execution_count": 108,
   "metadata": {},
   "outputs": [
    {
     "name": "stderr",
     "output_type": "stream",
     "text": [
      "0it [00:00, ?it/s]\n"
     ]
    }
   ],
   "source": [
    "# 600개 매장 데이터 가져오기\n",
    "starbuks_seoul_list = []\n",
    "starbuks_soup_list\n",
    "for item in tqdm(starbuks_soup_list):\n",
    "    name = item.select('strong')[0].text.strip()\n",
    "    lat  = item['data-lat'].strip()\n",
    "    long = item['data-long'].strip()\n",
    "    store_type = item.select('i')[0]['class'][0].split('_')[1] #_로 자르면 두번째 값이 general/reserve\n",
    "    address = item.select('p')[0].get_text(separator='|').split('|')[0] \n",
    "\n",
    "    starbuks_seoul_list.append([name, lat, long, store_type, address])\n"
   ]
  },
  {
   "cell_type": "code",
   "execution_count": 104,
   "metadata": {},
   "outputs": [
    {
     "data": {
      "text/plain": [
       "0"
      ]
     },
     "execution_count": 104,
     "metadata": {},
     "output_type": "execute_result"
    }
   ],
   "source": [
    "len(starbuks_seoul_list)"
   ]
  },
  {
   "cell_type": "code",
   "execution_count": 105,
   "metadata": {},
   "outputs": [
    {
     "data": {
      "text/html": [
       "<div>\n",
       "<style scoped>\n",
       "    .dataframe tbody tr th:only-of-type {\n",
       "        vertical-align: middle;\n",
       "    }\n",
       "\n",
       "    .dataframe tbody tr th {\n",
       "        vertical-align: top;\n",
       "    }\n",
       "\n",
       "    .dataframe thead th {\n",
       "        text-align: right;\n",
       "    }\n",
       "</style>\n",
       "<table border=\"1\" class=\"dataframe\">\n",
       "  <thead>\n",
       "    <tr style=\"text-align: right;\">\n",
       "      <th></th>\n",
       "      <th>매장명</th>\n",
       "      <th>위도</th>\n",
       "      <th>경도</th>\n",
       "      <th>매장타입</th>\n",
       "      <th>주소</th>\n",
       "    </tr>\n",
       "  </thead>\n",
       "  <tbody>\n",
       "  </tbody>\n",
       "</table>\n",
       "</div>"
      ],
      "text/plain": [
       "Empty DataFrame\n",
       "Columns: [매장명, 위도, 경도, 매장타입, 주소]\n",
       "Index: []"
      ]
     },
     "execution_count": 105,
     "metadata": {},
     "output_type": "execute_result"
    }
   ],
   "source": [
    "#DataFrame 생성\n",
    "colums = ['매장명', '위도', '경도', '매장타입', '주소']\n",
    "df= pd.DataFrame(starbuks_seoul_list, columns=colums)\n",
    "df.tail()"
   ]
  }
 ],
 "metadata": {
  "kernelspec": {
   "display_name": "Python 3",
   "language": "python",
   "name": "python3"
  },
  "language_info": {
   "codemirror_mode": {
    "name": "ipython",
    "version": 3
   },
   "file_extension": ".py",
   "mimetype": "text/x-python",
   "name": "python",
   "nbconvert_exporter": "python",
   "pygments_lexer": "ipython3",
   "version": "3.11.4"
  },
  "orig_nbformat": 4,
  "vscode": {
   "interpreter": {
    "hash": "5238573367df39f7286bb46f9ff5f08f63a01a80960060ce41e3c79b190280fa"
   }
  }
 },
 "nbformat": 4,
 "nbformat_minor": 2
}
