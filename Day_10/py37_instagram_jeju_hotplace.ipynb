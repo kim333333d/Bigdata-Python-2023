{
 "cells": [
  {
   "attachments": {},
   "cell_type": "markdown",
   "metadata": {},
   "source": [
    "#### 제주도 핫플레이스 인스타그램에서 크롤링하기\n",
    "\n",
    "##### matplotlib 한글설정\n",
    "\n",
    "##### 셀레니움 설정"
   ]
  },
  {
   "cell_type": "code",
   "execution_count": 1,
   "metadata": {},
   "outputs": [],
   "source": [
    "import matplotlib\n",
    "# from matplotlib import pyplot as plt\n",
    "import matplotlib.pyplot as plt\n",
    "from matplotlib import font_manager, rc, rcParams\n",
    "import seaborn as sns\n",
    "\n",
    "font_path = 'C:/Windows/Fonts/NanumGothic.ttf'\n",
    "font = font_manager.FontProperties(fname=font_path).get_name() # 'NanumGothic'\n",
    "rc('font', family=font)\n",
    "rcParams['axes.unicode_minus'] = False "
   ]
  },
  {
   "cell_type": "code",
   "execution_count": 2,
   "metadata": {},
   "outputs": [],
   "source": [
    "# 셀레니움\n",
    "# 모듈 임포트\n",
    "from selenium import webdriver\n",
    "\n",
    "driver = webdriver.Chrome()\n",
    "url = 'https://www.instagram.com/explore/tags/%EC%A0%9C%EC%A3%BC%EB%8F%84%EB%A7%9B%EC%A7%91/'\n",
    "driver.get(url)"
   ]
  },
  {
   "attachments": {},
   "cell_type": "markdown",
   "metadata": {},
   "source": [
    "##### 첫번째 게시글 찾아서 클릭하기\n"
   ]
  },
  {
   "cell_type": "code",
   "execution_count": 3,
   "metadata": {},
   "outputs": [],
   "source": [
    "from selenium.webdriver.common.by import By\n",
    "import time\n",
    "\n",
    "def select_first_post(driver):\n",
    "    first = driver.find_elements(By.CLASS_NAME, '_aagw')[0]\n",
    "    first.click()\n",
    "    time.sleep(3)\n",
    "\n",
    "select_first_post(driver)"
   ]
  },
  {
   "attachments": {},
   "cell_type": "markdown",
   "metadata": {},
   "source": [
    "##### 게시글 정보 가져오기"
   ]
  },
  {
   "cell_type": "code",
   "execution_count": 4,
   "metadata": {},
   "outputs": [
    {
     "data": {
      "text/plain": [
       "['', '', 0, '', []]"
      ]
     },
     "execution_count": 4,
     "metadata": {},
     "output_type": "execute_result"
    }
   ],
   "source": [
    "import re # RegularExpression 정규식 처리 모듈\n",
    "from bs4 import BeautifulSoup\n",
    "import unicodedata  # 유니코드 데이터 처리 모듈\n",
    "\n",
    "def get_content(driver):\n",
    "    # 1. 데이터가져오기\n",
    "    html = driver.page_source\n",
    "    soup = BeautifulSoup(html, 'html.parser')\n",
    "\n",
    "    # 2. 본문내용 찾아오기\n",
    "    try:\n",
    "        content = soup.select('div._a9zr')[0].text   # _a9zr은 추후 변경됨(인스타그램 정책)\n",
    "    except:\n",
    "        content = ''\n",
    "\n",
    "    # 3. 본문내용에서 해시태그 가져오기(정규식 활용)\n",
    "    tags = re.findall(r'#[^\\s#,\\\\]+', content)\n",
    "\n",
    "    # 4. 작성일자 정보\n",
    "    try:\n",
    "        date = soup.select('time._aaqe')[0]['datetime'][:10] # _aaqe은 추후 변경됨(인스타그램 정책)\n",
    "    except:\n",
    "        date = ''\n",
    "\n",
    "    # 5. 좋아요수 가져오기\n",
    "    try:\n",
    "        # x193iq5w등은 추후 변경됨(인스타그램 정책)\n",
    "        like = int(soup.select('span.x193iq5w.xeuugli.x1fj9vlw.x13faqbe.x1vvkbs.xt0psk2.x1i0vuye.xvs91rp > span')[0].text)\n",
    "    except:\n",
    "        like = 0\n",
    "\n",
    "    # 6. 위치정보\n",
    "    # 정규식 학습필수\n",
    "    # _aagv 마지막 인덱스를 찾으면 된다\n",
    "    # imgs = soup.select('div._aatk._aatl._aatm div._aagv > img')[0]['alt']\n",
    "    address = ''\n",
    "    try:\n",
    "        regex = r'(\\w+[시,읍]\\s*)?' \\\n",
    "                r'?(\\w+\\d*\\w*[로,리,길]\\s*)' \\\n",
    "                r'?(\\w*\\d+-?\\d*)?'\n",
    "\n",
    "        place = re.findall(regex, content)\n",
    "        for pl in place:\n",
    "            if pl[0] != '' and pl[1] != '' and pl[2] != '':\n",
    "                address = f'{pl[0]}{pl[1]}{pl[2]}'\n",
    "    except:\n",
    "        address = ''\n",
    "\n",
    "    # 7. 정보 저장\n",
    "    data = [content, date, like, address, tags]\n",
    "    return data\n",
    "\n",
    "get_content(driver)\n"
   ]
  },
  {
   "attachments": {},
   "cell_type": "markdown",
   "metadata": {},
   "source": [
    "##### 다음 게시글 열기"
   ]
  },
  {
   "cell_type": "code",
   "execution_count": 5,
   "metadata": {},
   "outputs": [
    {
     "ename": "NoSuchElementException",
     "evalue": "Message: no such element: Unable to locate element: {\"method\":\"css selector\",\"selector\":\"._aaqg._aaqh\"}\n  (Session info: chrome=114.0.5735.199); For documentation on this error, please visit: https://www.selenium.dev/documentation/webdriver/troubleshooting/errors#no-such-element-exception\nStacktrace:\nBacktrace:\n\tGetHandleVerifier [0x009CA813+48355]\n\t(No symbol) [0x0095C4B1]\n\t(No symbol) [0x00865358]\n\t(No symbol) [0x008909A5]\n\t(No symbol) [0x00890B3B]\n\t(No symbol) [0x008BE232]\n\t(No symbol) [0x008AA784]\n\t(No symbol) [0x008BC922]\n\t(No symbol) [0x008AA536]\n\t(No symbol) [0x008882DC]\n\t(No symbol) [0x008893DD]\n\tGetHandleVerifier [0x00C2AABD+2539405]\n\tGetHandleVerifier [0x00C6A78F+2800735]\n\tGetHandleVerifier [0x00C6456C+2775612]\n\tGetHandleVerifier [0x00A551E0+616112]\n\t(No symbol) [0x00965F8C]\n\t(No symbol) [0x00962328]\n\t(No symbol) [0x0096240B]\n\t(No symbol) [0x00954FF7]\n\tBaseThreadInitThunk [0x76556BA9+25]\n\tRtlGetFullPathName_UEx [0x77478F9F+1215]\n\tRtlGetFullPathName_UEx [0x77478F6D+1165]\n",
     "output_type": "error",
     "traceback": [
      "\u001b[1;31m---------------------------------------------------------------------------\u001b[0m",
      "\u001b[1;31mNoSuchElementException\u001b[0m                    Traceback (most recent call last)",
      "Cell \u001b[1;32mIn[5], line 7\u001b[0m\n\u001b[0;32m      4\u001b[0m     right\u001b[39m.\u001b[39mclick()\n\u001b[0;32m      5\u001b[0m     time\u001b[39m.\u001b[39msleep(\u001b[39m3\u001b[39m)\n\u001b[1;32m----> 7\u001b[0m move_next(driver)\n",
      "Cell \u001b[1;32mIn[5], line 2\u001b[0m, in \u001b[0;36mmove_next\u001b[1;34m(driver)\u001b[0m\n\u001b[0;32m      1\u001b[0m \u001b[39mdef\u001b[39;00m \u001b[39mmove_next\u001b[39m(driver):\n\u001b[1;32m----> 2\u001b[0m     right \u001b[39m=\u001b[39m driver\u001b[39m.\u001b[39;49mfind_element(By\u001b[39m.\u001b[39;49mCSS_SELECTOR, (\u001b[39m'\u001b[39;49m\u001b[39m._aaqg._aaqh\u001b[39;49m\u001b[39m'\u001b[39;49m))\n\u001b[0;32m      3\u001b[0m     right\u001b[39m.\u001b[39mfind_element(By\u001b[39m.\u001b[39mXPATH, \u001b[39m'\u001b[39m\u001b[39m//button\u001b[39m\u001b[39m'\u001b[39m)\n\u001b[0;32m      4\u001b[0m     right\u001b[39m.\u001b[39mclick()\n",
      "File \u001b[1;32mc:\\Program Files\\Python311\\Lib\\site-packages\\selenium\\webdriver\\remote\\webdriver.py:740\u001b[0m, in \u001b[0;36mWebDriver.find_element\u001b[1;34m(self, by, value)\u001b[0m\n\u001b[0;32m    737\u001b[0m     by \u001b[39m=\u001b[39m By\u001b[39m.\u001b[39mCSS_SELECTOR\n\u001b[0;32m    738\u001b[0m     value \u001b[39m=\u001b[39m \u001b[39mf\u001b[39m\u001b[39m'\u001b[39m\u001b[39m[name=\u001b[39m\u001b[39m\"\u001b[39m\u001b[39m{\u001b[39;00mvalue\u001b[39m}\u001b[39;00m\u001b[39m\"\u001b[39m\u001b[39m]\u001b[39m\u001b[39m'\u001b[39m\n\u001b[1;32m--> 740\u001b[0m \u001b[39mreturn\u001b[39;00m \u001b[39mself\u001b[39;49m\u001b[39m.\u001b[39;49mexecute(Command\u001b[39m.\u001b[39;49mFIND_ELEMENT, {\u001b[39m\"\u001b[39;49m\u001b[39musing\u001b[39;49m\u001b[39m\"\u001b[39;49m: by, \u001b[39m\"\u001b[39;49m\u001b[39mvalue\u001b[39;49m\u001b[39m\"\u001b[39;49m: value})[\u001b[39m\"\u001b[39m\u001b[39mvalue\u001b[39m\u001b[39m\"\u001b[39m]\n",
      "File \u001b[1;32mc:\\Program Files\\Python311\\Lib\\site-packages\\selenium\\webdriver\\remote\\webdriver.py:346\u001b[0m, in \u001b[0;36mWebDriver.execute\u001b[1;34m(self, driver_command, params)\u001b[0m\n\u001b[0;32m    344\u001b[0m response \u001b[39m=\u001b[39m \u001b[39mself\u001b[39m\u001b[39m.\u001b[39mcommand_executor\u001b[39m.\u001b[39mexecute(driver_command, params)\n\u001b[0;32m    345\u001b[0m \u001b[39mif\u001b[39;00m response:\n\u001b[1;32m--> 346\u001b[0m     \u001b[39mself\u001b[39;49m\u001b[39m.\u001b[39;49merror_handler\u001b[39m.\u001b[39;49mcheck_response(response)\n\u001b[0;32m    347\u001b[0m     response[\u001b[39m\"\u001b[39m\u001b[39mvalue\u001b[39m\u001b[39m\"\u001b[39m] \u001b[39m=\u001b[39m \u001b[39mself\u001b[39m\u001b[39m.\u001b[39m_unwrap_value(response\u001b[39m.\u001b[39mget(\u001b[39m\"\u001b[39m\u001b[39mvalue\u001b[39m\u001b[39m\"\u001b[39m, \u001b[39mNone\u001b[39;00m))\n\u001b[0;32m    348\u001b[0m     \u001b[39mreturn\u001b[39;00m response\n",
      "File \u001b[1;32mc:\\Program Files\\Python311\\Lib\\site-packages\\selenium\\webdriver\\remote\\errorhandler.py:245\u001b[0m, in \u001b[0;36mErrorHandler.check_response\u001b[1;34m(self, response)\u001b[0m\n\u001b[0;32m    243\u001b[0m         alert_text \u001b[39m=\u001b[39m value[\u001b[39m\"\u001b[39m\u001b[39malert\u001b[39m\u001b[39m\"\u001b[39m]\u001b[39m.\u001b[39mget(\u001b[39m\"\u001b[39m\u001b[39mtext\u001b[39m\u001b[39m\"\u001b[39m)\n\u001b[0;32m    244\u001b[0m     \u001b[39mraise\u001b[39;00m exception_class(message, screen, stacktrace, alert_text)  \u001b[39m# type: ignore[call-arg]  # mypy is not smart enough here\u001b[39;00m\n\u001b[1;32m--> 245\u001b[0m \u001b[39mraise\u001b[39;00m exception_class(message, screen, stacktrace)\n",
      "\u001b[1;31mNoSuchElementException\u001b[0m: Message: no such element: Unable to locate element: {\"method\":\"css selector\",\"selector\":\"._aaqg._aaqh\"}\n  (Session info: chrome=114.0.5735.199); For documentation on this error, please visit: https://www.selenium.dev/documentation/webdriver/troubleshooting/errors#no-such-element-exception\nStacktrace:\nBacktrace:\n\tGetHandleVerifier [0x009CA813+48355]\n\t(No symbol) [0x0095C4B1]\n\t(No symbol) [0x00865358]\n\t(No symbol) [0x008909A5]\n\t(No symbol) [0x00890B3B]\n\t(No symbol) [0x008BE232]\n\t(No symbol) [0x008AA784]\n\t(No symbol) [0x008BC922]\n\t(No symbol) [0x008AA536]\n\t(No symbol) [0x008882DC]\n\t(No symbol) [0x008893DD]\n\tGetHandleVerifier [0x00C2AABD+2539405]\n\tGetHandleVerifier [0x00C6A78F+2800735]\n\tGetHandleVerifier [0x00C6456C+2775612]\n\tGetHandleVerifier [0x00A551E0+616112]\n\t(No symbol) [0x00965F8C]\n\t(No symbol) [0x00962328]\n\t(No symbol) [0x0096240B]\n\t(No symbol) [0x00954FF7]\n\tBaseThreadInitThunk [0x76556BA9+25]\n\tRtlGetFullPathName_UEx [0x77478F9F+1215]\n\tRtlGetFullPathName_UEx [0x77478F6D+1165]\n"
     ]
    }
   ],
   "source": [
    "def move_next(driver):\n",
    "    right = driver.find_element(By.CSS_SELECTOR, ('._aaqg._aaqh'))\n",
    "    right.find_element(By.XPATH, '//button')\n",
    "    right.click()\n",
    "    time.sleep(3)\n",
    "\n",
    "move_next(driver)"
   ]
  },
  {
   "attachments": {},
   "cell_type": "markdown",
   "metadata": {},
   "source": [
    "##### 자동 크롤링 구현"
   ]
  },
  {
   "cell_type": "code",
   "execution_count": 6,
   "metadata": {},
   "outputs": [],
   "source": [
    "# 모듈 임포트 생략\n",
    "\n",
    "driver = webdriver.Chrome()\n",
    "driver.get('https://www.instagram.com')\n",
    "time.sleep(2.0)"
   ]
  },
  {
   "cell_type": "code",
   "execution_count": 7,
   "metadata": {},
   "outputs": [],
   "source": [
    "# 아이디, 패스워드 입력해서 자동 로그인하기\n",
    "id = 'personar95@gmail.com'\n",
    "input_id = driver.find_elements(By.CSS_SELECTOR, '._aa4b._add6._ac4d')[0]\n",
    "input_id.clear()\n",
    "input_id.send_keys(id)\n",
    "password = '9876543210'\n",
    "input_pw = driver.find_elements(By.CSS_SELECTOR, '._aa4b._add6._ac4d')[1]\n",
    "input_pw.clear()\n",
    "input_pw.send_keys(password)\n",
    "input_pw.submit()\n",
    "time.sleep(2.0)"
   ]
  },
  {
   "cell_type": "code",
   "execution_count": 8,
   "metadata": {},
   "outputs": [],
   "source": [
    "# 알림설정 버튼 클릭\n",
    "alarm_btn = driver.find_element(By.CSS_SELECTOR, '._a9--._a9_0')\n",
    "alarm_btn.click()"
   ]
  },
  {
   "cell_type": "code",
   "execution_count": 9,
   "metadata": {},
   "outputs": [],
   "source": [
    "# 제주도맛집 찾기 함수\n",
    "def insta_searching(word):\n",
    "    url = f'https://www.instagram.com/explore/tags/{word}'\n",
    "    return url"
   ]
  },
  {
   "cell_type": "code",
   "execution_count": 10,
   "metadata": {},
   "outputs": [
    {
     "name": "stdout",
     "output_type": "stream",
     "text": [
      "1\n",
      "2\n",
      "3\n",
      "3\n"
     ]
    }
   ],
   "source": [
    "# 크롤링 시작하기\n",
    "word = '제주도맛집'\n",
    "url = insta_searching(word)\n",
    "driver.get(url)\n",
    "time.sleep(10.0)\n",
    "\n",
    "select_first_post(driver)\n",
    "\n",
    "results = []\n",
    "\n",
    "target = 3\n",
    "count = 0\n",
    "for i in range(target):\n",
    "    count += 1\n",
    "    try:\n",
    "        data = get_content(driver)\n",
    "        results.append(data)\n",
    "        move_next(driver)\n",
    "    except:\n",
    "        time.sleep(2.0)\n",
    "        move_next(driver)\n",
    "    print(count)\n",
    "\n",
    "print(len(results))"
   ]
  },
  {
   "cell_type": "code",
   "execution_count": 12,
   "metadata": {},
   "outputs": [
    {
     "data": {
      "text/html": [
       "<div>\n",
       "<style scoped>\n",
       "    .dataframe tbody tr th:only-of-type {\n",
       "        vertical-align: middle;\n",
       "    }\n",
       "\n",
       "    .dataframe tbody tr th {\n",
       "        vertical-align: top;\n",
       "    }\n",
       "\n",
       "    .dataframe thead th {\n",
       "        text-align: right;\n",
       "    }\n",
       "</style>\n",
       "<table border=\"1\" class=\"dataframe\">\n",
       "  <thead>\n",
       "    <tr style=\"text-align: right;\">\n",
       "      <th></th>\n",
       "      <th>0</th>\n",
       "      <th>1</th>\n",
       "      <th>2</th>\n",
       "      <th>3</th>\n",
       "      <th>4</th>\n",
       "    </tr>\n",
       "  </thead>\n",
       "  <tbody>\n",
       "    <tr>\n",
       "      <th>0</th>\n",
       "      <td>min_happy.matzip▫️맹구의 함덕 곱들락 탐방▫️#곱들락 #흑돼지맛집 #...</td>\n",
       "      <td>2023-06-29</td>\n",
       "      <td>512</td>\n",
       "      <td></td>\n",
       "      <td>[#곱들락, #흑돼지맛집, #함덕맛집, #제주도맛집, #저장각-맹구가, #함덕해수욕...</td>\n",
       "    </tr>\n",
       "    <tr>\n",
       "      <th>1</th>\n",
       "      <td>daytripkorea제주의 아름다움은 비구름에 결코 가려지지 않습니다. 비 오는 ...</td>\n",
       "      <td>2023-06-29</td>\n",
       "      <td>2251</td>\n",
       "      <td></td>\n",
       "      <td>[#데이트리퍼, #데이트립, #데이트립]</td>\n",
       "    </tr>\n",
       "    <tr>\n",
       "      <th>2</th>\n",
       "      <td>min_happy.matzip▫️맹구의 풍로 중문점 탐방▫️#풍로 #중문맛집 #흑돼...</td>\n",
       "      <td>2023-06-27</td>\n",
       "      <td>1093</td>\n",
       "      <td></td>\n",
       "      <td>[#풍로, #중문맛집, #흑돼지맛집, #고기맛집, #저장각-맹구가, #제주도맛집, ...</td>\n",
       "    </tr>\n",
       "  </tbody>\n",
       "</table>\n",
       "</div>"
      ],
      "text/plain": [
       "                                                   0           1     2 3  \\\n",
       "0  min_happy.matzip▫️맹구의 함덕 곱들락 탐방▫️#곱들락 #흑돼지맛집 #...  2023-06-29   512     \n",
       "1  daytripkorea제주의 아름다움은 비구름에 결코 가려지지 않습니다. 비 오는 ...  2023-06-29  2251     \n",
       "2  min_happy.matzip▫️맹구의 풍로 중문점 탐방▫️#풍로 #중문맛집 #흑돼...  2023-06-27  1093     \n",
       "\n",
       "                                                   4  \n",
       "0  [#곱들락, #흑돼지맛집, #함덕맛집, #제주도맛집, #저장각-맹구가, #함덕해수욕...  \n",
       "1                             [#데이트리퍼, #데이트립, #데이트립]  \n",
       "2  [#풍로, #중문맛집, #흑돼지맛집, #고기맛집, #저장각-맹구가, #제주도맛집, ...  "
      ]
     },
     "execution_count": 12,
     "metadata": {},
     "output_type": "execute_result"
    }
   ],
   "source": [
    "import pandas as pd\n",
    "df = pd.DataFrame(results)\n",
    "df"
   ]
  },
  {
   "cell_type": "code",
   "execution_count": 206,
   "metadata": {},
   "outputs": [],
   "source": [
    "import pandas as pd\n",
    "\n",
    "results_df = pd.DataFrame(results)\n",
    "results_df.columns = ['content','data','like','place','tags']\n",
    "results_df.to_excel('./1_crawling_jejudoHotplaces.xlsx', index=False)"
   ]
  }
 ],
 "metadata": {
  "kernelspec": {
   "display_name": "Python 3",
   "language": "python",
   "name": "python3"
  },
  "language_info": {
   "codemirror_mode": {
    "name": "ipython",
    "version": 3
   },
   "file_extension": ".py",
   "mimetype": "text/x-python",
   "name": "python",
   "nbconvert_exporter": "python",
   "pygments_lexer": "ipython3",
   "version": "3.11.4"
  },
  "orig_nbformat": 4,
  "vscode": {
   "interpreter": {
    "hash": "5238573367df39f7286bb46f9ff5f08f63a01a80960060ce41e3c79b190280fa"
   }
  }
 },
 "nbformat": 4,
 "nbformat_minor": 2
}
