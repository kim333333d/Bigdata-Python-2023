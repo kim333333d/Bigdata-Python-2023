{
 "cells": [
  {
   "attachments": {},
   "cell_type": "markdown",
   "metadata": {},
   "source": [
    "#### 230621 Python 코딩테스트\n",
    "- 김세현"
   ]
  },
  {
   "cell_type": "code",
   "execution_count": null,
   "metadata": {},
   "outputs": [],
   "source": [
    "# 문제 1번\n",
    "# 입력한 주민번호를 통해서 남성과 여성을 구분할 수 있는 프로그램을 작성하시오\n",
    "# (1,3,5는 남성, 2, 4, 6은 여성입니다)\n",
    "\n",
    "pin = input('당신의 주민번호를 입력하세요(-와 공백없이 적어주세요) > ')\n",
    "\n",
    "if(pin[6] == '1' or pin[6] == '3' or pin[6] == '5'):\n",
    "    print('당신은 남성입니다.')\n",
    "elif(pin[6] == '2' or pin[6] == '4' or pin[6] == '6'):\n",
    "    print('당신은 여성입니다.')\n",
    "else:\n",
    "    print('주민등록번호가 올바르지 않습니다. 다시 입력하세요')"
   ]
  },
  {
   "cell_type": "code",
   "execution_count": null,
   "metadata": {},
   "outputs": [],
   "source": [
    "# 문제 2번\n",
    "# 일주일의 영어명은  'MON', 'TUE', 'WED', 'TUR', 'FRI', 'SAT', 'SUN' 입니다. \n",
    "# 이를 입력하면, '월요일' ~ '일요일' 까지 출력되는 프로그램을 작성하세요.\n",
    "\n",
    "week = input('원하는 요일을 작성해주세요 > ').strip()\n",
    "\n",
    "if(week == 'MOM'):\n",
    "    print('월요일')\n",
    "elif(week == 'TUE'):\n",
    "    print('화요일')\n",
    "elif(week == 'WED'):\n",
    "    print('수요일')\n",
    "elif(week == 'TUR'):\n",
    "    print('목요일')\n",
    "elif(week == 'FRI'):\n",
    "    print('금요일')\n",
    "elif(week == 'SAT'):\n",
    "    print('토요일')\n",
    "elif(week == 'SUN'):\n",
    "    print('일요일')\n",
    "else:\n",
    "    print('MON', 'TUE', 'WED', 'TUR', 'FRI', 'SAT', 'SUN중 하나를 입력하세요')"
   ]
  },
  {
   "cell_type": "code",
   "execution_count": null,
   "metadata": {},
   "outputs": [],
   "source": [
    "# 문제 3번 \n",
    "# 나이를 입력하여 19세 미만 일 경우 입장을 못하게 하는 나이트클럽 입장 프로그램을 작성하세요. \n",
    "\n",
    "str_age = input('나이를 입력 > ')\n",
    "age = int(str_age)\n",
    "if(age < 19):\n",
    "    print('애들은 가라')\n",
    "else:\n",
    "    print('들어오십쇼 손님')"
   ]
  },
  {
   "cell_type": "code",
   "execution_count": null,
   "metadata": {},
   "outputs": [],
   "source": [
    "# 문제 4번\n",
    "# while문을 사용하여 1부터 10000까지 내에서 3과 5의 배수를 모두 구하여, \n",
    "# result.txt에 저장하는 프로그램을 작성하세요.\n",
    "\n",
    "i = 1\n",
    "\n",
    "while i <= 10000:\n",
    "    if i % 3 == 0 or i % 5 == 0:\n",
    "        print(i, end=', ')\n",
    "    i += 1"
   ]
  },
  {
   "cell_type": "code",
   "execution_count": null,
   "metadata": {},
   "outputs": [],
   "source": [
    "# 문제 5번\n",
    "# datetime 모듈을 사용하여, 현재 날짜와 시간을 아래와 같은 형식으로 출력하는 프로그램을 작성하세요.\n",
    "# 예) 2023\\06-21 16*25%32\n",
    "\n",
    "from datetime import datetime\n",
    "\n",
    "curr_date = datetime.now()\n",
    "year = curr_date.year\n",
    "month = curr_date.month\n",
    "day = curr_date.day\n",
    "hour = curr_date.hour\n",
    "minute = curr_date.minute\n",
    "second = curr_date.second\n",
    "\n",
    "print(f'{year}\\{month:02d}-{day:02d} {hour:02d}*{minute:02d}%{second:02d}')"
   ]
  }
 ],
 "metadata": {
  "kernelspec": {
   "display_name": "Python 3",
   "language": "python",
   "name": "python3"
  },
  "language_info": {
   "codemirror_mode": {
    "name": "ipython",
    "version": 3
   },
   "file_extension": ".py",
   "mimetype": "text/x-python",
   "name": "python",
   "nbconvert_exporter": "python",
   "pygments_lexer": "ipython3",
   "version": "3.11.4"
  },
  "orig_nbformat": 4,
  "vscode": {
   "interpreter": {
    "hash": "5238573367df39f7286bb46f9ff5f08f63a01a80960060ce41e3c79b190280fa"
   }
  }
 },
 "nbformat": 4,
 "nbformat_minor": 2
}
